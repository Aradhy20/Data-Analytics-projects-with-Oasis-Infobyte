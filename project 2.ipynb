{
 "cells": [
  {
   "cell_type": "code",
   "execution_count": 16,
   "metadata": {},
   "outputs": [
    {
     "name": "stdout",
     "output_type": "stream",
     "text": [
      "NYC Data Preview:\n",
      "     id                                              name  host_id  \\\n",
      "0  2539                Clean & quiet apt home by the park     2787   \n",
      "1  2595                             Skylit Midtown Castle     2845   \n",
      "2  3647               THE VILLAGE OF HARLEM....NEW YORK !     4632   \n",
      "3  3831                   Cozy Entire Floor of Brownstone     4869   \n",
      "4  5022  Entire Apt: Spacious Studio/Loft by central park     7192   \n",
      "\n",
      "     host_name neighbourhood_group neighbourhood  latitude  longitude  \\\n",
      "0         John            Brooklyn    Kensington  40.64749  -73.97237   \n",
      "1     Jennifer           Manhattan       Midtown  40.75362  -73.98377   \n",
      "2    Elisabeth           Manhattan        Harlem  40.80902  -73.94190   \n",
      "3  LisaRoxanne            Brooklyn  Clinton Hill  40.68514  -73.95976   \n",
      "4        Laura           Manhattan   East Harlem  40.79851  -73.94399   \n",
      "\n",
      "         room_type  price  minimum_nights  number_of_reviews last_review  \\\n",
      "0     Private room    149               1                  9  2018-10-19   \n",
      "1  Entire home/apt    225               1                 45  2019-05-21   \n",
      "2     Private room    150               3                  0         NaN   \n",
      "3  Entire home/apt     89               1                270  2019-07-05   \n",
      "4  Entire home/apt     80              10                  9  2018-11-19   \n",
      "\n",
      "   reviews_per_month  calculated_host_listings_count  availability_365  \n",
      "0               0.21                               6               365  \n",
      "1               0.38                               2               355  \n",
      "2                NaN                               1               365  \n",
      "3               4.64                               1               194  \n",
      "4               0.10                               1                 0  \n",
      "\n",
      "Categories Data Preview:\n",
      "                                kind  \\\n",
      "0  youtube#videoCategoryListResponse   \n",
      "1  youtube#videoCategoryListResponse   \n",
      "2  youtube#videoCategoryListResponse   \n",
      "3  youtube#videoCategoryListResponse   \n",
      "4  youtube#videoCategoryListResponse   \n",
      "\n",
      "                                                etag  \\\n",
      "0  \"ld9biNPKjAjgjV7EZ4EKeEGrhao/1v2mrzYSYG6onNLt2...   \n",
      "1  \"ld9biNPKjAjgjV7EZ4EKeEGrhao/1v2mrzYSYG6onNLt2...   \n",
      "2  \"ld9biNPKjAjgjV7EZ4EKeEGrhao/1v2mrzYSYG6onNLt2...   \n",
      "3  \"ld9biNPKjAjgjV7EZ4EKeEGrhao/1v2mrzYSYG6onNLt2...   \n",
      "4  \"ld9biNPKjAjgjV7EZ4EKeEGrhao/1v2mrzYSYG6onNLt2...   \n",
      "\n",
      "                                               items  \n",
      "0  {'kind': 'youtube#videoCategory', 'etag': '\"ld...  \n",
      "1  {'kind': 'youtube#videoCategory', 'etag': '\"ld...  \n",
      "2  {'kind': 'youtube#videoCategory', 'etag': '\"ld...  \n",
      "3  {'kind': 'youtube#videoCategory', 'etag': '\"ld...  \n",
      "4  {'kind': 'youtube#videoCategory', 'etag': '\"ld...  \n"
     ]
    }
   ],
   "source": [
    "# Step 1: Import Required Libraries\n",
    "import pandas as pd\n",
    "import numpy as np\n",
    "import seaborn as sns\n",
    "import matplotlib.pyplot as plt\n",
    "\n",
    "# Step 2: Load the Data\n",
    "nyc_data = pd.read_csv('AB_NYC_2019.csv')\n",
    "categories = pd.read_json('CA_category_id.json')\n",
    "\n",
    "# Display the first few rows to understand the data\n",
    "print(\"NYC Data Preview:\")\n",
    "print(nyc_data.head())\n",
    "print(\"\\nCategories Data Preview:\")\n",
    "print(categories.head())"
   ]
  },
  {
   "cell_type": "code",
   "execution_count": 17,
   "metadata": {},
   "outputs": [
    {
     "name": "stdout",
     "output_type": "stream",
     "text": [
      "\n",
      "NYC Data Info:\n",
      "<class 'pandas.core.frame.DataFrame'>\n",
      "RangeIndex: 48895 entries, 0 to 48894\n",
      "Data columns (total 16 columns):\n",
      " #   Column                          Non-Null Count  Dtype  \n",
      "---  ------                          --------------  -----  \n",
      " 0   id                              48895 non-null  int64  \n",
      " 1   name                            48879 non-null  object \n",
      " 2   host_id                         48895 non-null  int64  \n",
      " 3   host_name                       48874 non-null  object \n",
      " 4   neighbourhood_group             48895 non-null  object \n",
      " 5   neighbourhood                   48895 non-null  object \n",
      " 6   latitude                        48895 non-null  float64\n",
      " 7   longitude                       48895 non-null  float64\n",
      " 8   room_type                       48895 non-null  object \n",
      " 9   price                           48895 non-null  int64  \n",
      " 10  minimum_nights                  48895 non-null  int64  \n",
      " 11  number_of_reviews               48895 non-null  int64  \n",
      " 12  last_review                     38843 non-null  object \n",
      " 13  reviews_per_month               38843 non-null  float64\n",
      " 14  calculated_host_listings_count  48895 non-null  int64  \n",
      " 15  availability_365                48895 non-null  int64  \n",
      "dtypes: float64(3), int64(7), object(6)\n",
      "memory usage: 6.0+ MB\n",
      "None\n",
      "\n",
      "Categories Data Info:\n",
      "<class 'pandas.core.frame.DataFrame'>\n",
      "RangeIndex: 31 entries, 0 to 30\n",
      "Data columns (total 3 columns):\n",
      " #   Column  Non-Null Count  Dtype \n",
      "---  ------  --------------  ----- \n",
      " 0   kind    31 non-null     object\n",
      " 1   etag    31 non-null     object\n",
      " 2   items   31 non-null     object\n",
      "dtypes: object(3)\n",
      "memory usage: 876.0+ bytes\n",
      "None\n"
     ]
    }
   ],
   "source": [
    "\n",
    "# Step 3: Data Integrity\n",
    "print(\"\\nNYC Data Info:\")\n",
    "print(nyc_data.info())\n",
    "print(\"\\nCategories Data Info:\")\n",
    "print(categories.info())"
   ]
  },
  {
   "cell_type": "code",
   "execution_count": 18,
   "metadata": {},
   "outputs": [
    {
     "name": "stdout",
     "output_type": "stream",
     "text": [
      "\n",
      "Missing data:\n",
      " id                                    0\n",
      "name                                 16\n",
      "host_id                               0\n",
      "host_name                            21\n",
      "neighbourhood_group                   0\n",
      "neighbourhood                         0\n",
      "latitude                              0\n",
      "longitude                             0\n",
      "room_type                             0\n",
      "price                                 0\n",
      "minimum_nights                        0\n",
      "number_of_reviews                     0\n",
      "last_review                       10052\n",
      "reviews_per_month                 10052\n",
      "calculated_host_listings_count        0\n",
      "availability_365                      0\n",
      "dtype: int64\n"
     ]
    },
    {
     "name": "stderr",
     "output_type": "stream",
     "text": [
      "C:\\Users\\VICTUS\\AppData\\Local\\Temp\\ipykernel_10320\\977467717.py:6: FutureWarning: A value is trying to be set on a copy of a DataFrame or Series through chained assignment using an inplace method.\n",
      "The behavior will change in pandas 3.0. This inplace method will never work because the intermediate object on which we are setting values always behaves as a copy.\n",
      "\n",
      "For example, when doing 'df[col].method(value, inplace=True)', try using 'df.method({col: value}, inplace=True)' or df[col] = df[col].method(value) instead, to perform the operation inplace on the original object.\n",
      "\n",
      "\n",
      "  nyc_data['name'].fillna('Unknown', inplace=True)\n"
     ]
    }
   ],
   "source": [
    "# Step 4: Handling Missing Data\n",
    "missing_data = nyc_data.isnull().sum()\n",
    "print(\"\\nMissing data:\\n\", missing_data)\n",
    "\n",
    "# Fill missing values for 'name' and drop rows with critical missing data\n",
    "nyc_data['name'].fillna('Unknown', inplace=True)\n",
    "nyc_data.dropna(subset=['price', 'latitude', 'longitude'], inplace=True)"
   ]
  },
  {
   "cell_type": "code",
   "execution_count": 20,
   "metadata": {},
   "outputs": [
    {
     "name": "stdout",
     "output_type": "stream",
     "text": [
      "\n",
      "Number of duplicate rows: 0\n"
     ]
    }
   ],
   "source": [
    "# Step 5: Duplicate Removal\n",
    "duplicates = nyc_data.duplicated().sum()\n",
    "print(f\"\\nNumber of duplicate rows: {duplicates}\")\n",
    "nyc_data = nyc_data.drop_duplicates()\n",
    "\n",
    "# Step 6: Standardization\n",
    "# Rename columns for consistency\n",
    "nyc_data.rename(columns=lambda x: x.strip().lower().replace(' ', '_'), inplace=True)\n",
    "# Standardize categorical data\n",
    "nyc_data['room_type'] = nyc_data['room_type'].str.lower()"
   ]
  },
  {
   "cell_type": "code",
   "execution_count": 21,
   "metadata": {},
   "outputs": [
    {
     "data": {
      "image/png": "[encoded data removed]",
      "text/plain": [
       "<Figure size 640x480 with 1 Axes>"
      ]
     },
     "metadata": {},
     "output_type": "display_data"
    }
   ],
   "source": [
    "# Step 7: Outlier Detection and Handling\n",
    "sns.boxplot(x=nyc_data['price'])\n",
    "plt.title('Price Distribution')\n",
    "plt.show()\n",
    "\n",
    "# Use Z-scores for advanced outlier handling\n",
    "from scipy.stats import zscore\n",
    "\n",
    "nyc_data['price_zscore'] = zscore(nyc_data['price'])\n",
    "nyc_data = nyc_data[nyc_data['price_zscore'].abs() <= 3]  # Retain rows with z-scores within [-3, 3]\n",
    "nyc_data.drop(columns='price_zscore', inplace=True)\n"
   ]
  },
  {
   "cell_type": "code",
   "execution_count": 23,
   "metadata": {},
   "outputs": [
    {
     "name": "stdout",
     "output_type": "stream",
     "text": [
      "\n",
      "Flattened Categories Data:\n",
      "  category_id     category_name\n",
      "0           1  Film & Animation\n",
      "1           2  Autos & Vehicles\n",
      "2          10             Music\n",
      "3          15    Pets & Animals\n",
      "4          17            Sports\n"
     ]
    }
   ],
   "source": [
    "# Step 8: Feature Engineering\n",
    "# Add a 'price_per_person' column\n",
    "nyc_data['price_per_person'] = nyc_data['price'] / (nyc_data['minimum_nights'] + 1)\n",
    "\n",
    "# Step 9: Integration of JSON Data\n",
    "# Extract useful details from the JSON dataset\n",
    "categories_flat = pd.json_normalize(categories['items'])\n",
    "categories_flat = categories_flat[['id', 'snippet.title']].rename(columns={'id': 'category_id', 'snippet.title': 'category_name'})\n",
    "print(\"\\nFlattened Categories Data:\")\n",
    "print(categories_flat.head())"
   ]
  },
  {
   "cell_type": "code",
   "execution_count": 24,
   "metadata": {},
   "outputs": [
    {
     "name": "stdout",
     "output_type": "stream",
     "text": [
      "Cleaned data saved as '/mnt/data/cleaned_nyc_data.csv'.\n"
     ]
    }
   ],
   "source": [
    "# Step 10: Save the Cleaned Data\n",
    "cleaned_file_path = '/mnt/data/cleaned_nyc_data.csv'\n",
    "nyc_data.to_csv(cleaned_file_path, index=False)\n",
    "print(f\"Cleaned data saved as '{cleaned_file_path}'.\")"
   ]
  }
 ],
 "metadata": {
  "kernelspec": {
   "display_name": "Python 3",
   "language": "python",
   "name": "python3"
  },
  "language_info": {
   "codemirror_mode": {
    "name": "ipython",
    "version": 3
   },
   "file_extension": ".py",
   "mimetype": "text/x-python",
   "name": "python",
   "nbconvert_exporter": "python",
   "pygments_lexer": "ipython3",
   "version": "3.13.1"
  }
 },
 "nbformat": 4,
 "nbformat_minor": 2
}
